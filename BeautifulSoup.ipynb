{
 "cells": [
  {
   "cell_type": "code",
   "execution_count": 6,
   "id": "fb0edd45-a021-4b2f-a962-0945ee8b691b",
   "metadata": {},
   "outputs": [],
   "source": [
    "html = '<!DOCTYPE html>\\\n",
    "<html>\\\n",
    "<head>\\\n",
    "<title> Testing Web Page </title>\\\n",
    "</head>\\\n",
    "<body>\\\n",
    "<h1> Web Scraping </h1>\\\n",
    "<p id = \"first_para\">\\\n",
    "Let\\'s start learning \\\n",
    "<b>\\\n",
    "Web Scraping\\\n",
    "</b>\\\n",
    "</p>\\\n",
    "<p class = \"abc\" id = \"second_para\">\\\n",
    "You can read more about BeautifulSoup from <a href=\"https://www.crummy.com/software/BeautifulSoup/bs4/doc/\"> here </a>\\\n",
    "</p>\\\n",
    "<p class = \"abc\">\\\n",
    "<a href = \"https://codingninjas.in/\"> Coding Ninjas </a>\\\n",
    "</p>\\\n",
    "</body>\\\n",
    "</html>'"
   ]
  },
  {
   "cell_type": "code",
   "execution_count": 7,
   "id": "228df215-36f8-4d8b-9e9b-ed3a957b19a0",
   "metadata": {},
   "outputs": [],
   "source": [
    "from bs4 import BeautifulSoup"
   ]
  },
  {
   "cell_type": "code",
   "execution_count": 8,
   "id": "6daf86ea-83e6-470f-82e8-356afa6e422e",
   "metadata": {},
   "outputs": [
    {
     "data": {
      "text/plain": [
       "<!DOCTYPE html>\n",
       "<html><head><title> Testing Web Page </title></head><body><h1> Web Scraping </h1><p id=\"first_para\">Let's start learning <b>Web Scraping</b></p><p class=\"abc\" id=\"second_para\">You can read more about BeautifulSoup from <a href=\"https://www.crummy.com/software/BeautifulSoup/bs4/doc/\"> here </a></p><p class=\"abc\"><a href=\"https://codingninjas.in/\"> Coding Ninjas </a></p></body></html>"
      ]
     },
     "execution_count": 8,
     "metadata": {},
     "output_type": "execute_result"
    }
   ],
   "source": [
    "data = BeautifulSoup(html, 'html.parser')\n",
    "data"
   ]
  },
  {
   "cell_type": "code",
   "execution_count": 4,
   "id": "fb8309fa-aacd-470d-8862-3793541d1b52",
   "metadata": {},
   "outputs": [
    {
     "data": {
      "text/plain": [
       "bs4.BeautifulSoup"
      ]
     },
     "execution_count": 4,
     "metadata": {},
     "output_type": "execute_result"
    }
   ],
   "source": [
    "type(data)"
   ]
  },
  {
   "cell_type": "code",
   "execution_count": 5,
   "id": "f28776a5-086c-4109-962a-67ef26227dc0",
   "metadata": {},
   "outputs": [
    {
     "name": "stdout",
     "output_type": "stream",
     "text": [
      "<!DOCTYPE html>\n",
      "<html>\n",
      " <head>\n",
      "  <title>\n",
      "   Testing Web Page\n",
      "  </title>\n",
      " </head>\n",
      " <body>\n",
      "  <h1>\n",
      "   Web Scraping\n",
      "  </h1>\n",
      "  <p id=\"first_para\">\n",
      "   Let's start learning\n",
      "   <b>\n",
      "    Web Scraping\n",
      "   </b>\n",
      "  </p>\n",
      "  <p class=\"abc\" id=\"second_para\">\n",
      "   You can read more about BeautifulSoup from\n",
      "   <a href=\"https://www.crummy.com/software/BeautifulSoup/bs4/doc/\">\n",
      "    here\n",
      "   </a>\n",
      "  </p>\n",
      "  <p class=\"abc\">\n",
      "   <a href=\"https://codingninjas.in/\">\n",
      "    Coding Ninjas\n",
      "   </a>\n",
      "  </p>\n",
      " </body>\n",
      "</html>\n",
      "\n"
     ]
    }
   ],
   "source": [
    "print(data.prettify())"
   ]
  },
  {
   "cell_type": "code",
   "execution_count": 6,
   "id": "62ab4a32-c741-4f69-91d6-5ffcf09b3528",
   "metadata": {},
   "outputs": [
    {
     "data": {
      "text/plain": [
       "<title> Testing Web Page </title>"
      ]
     },
     "execution_count": 6,
     "metadata": {},
     "output_type": "execute_result"
    }
   ],
   "source": [
    "data.title"
   ]
  },
  {
   "cell_type": "code",
   "execution_count": 7,
   "id": "7fdc8d82-4e91-4c70-b53d-0165c855a3b2",
   "metadata": {},
   "outputs": [
    {
     "data": {
      "text/plain": [
       "<head><title> Testing Web Page </title></head>"
      ]
     },
     "execution_count": 7,
     "metadata": {},
     "output_type": "execute_result"
    }
   ],
   "source": [
    "data.head"
   ]
  },
  {
   "cell_type": "code",
   "execution_count": 8,
   "id": "0dd4dcad-91fe-496d-bd9e-72ccf47544cc",
   "metadata": {},
   "outputs": [
    {
     "data": {
      "text/plain": [
       "<h1> Web Scraping </h1>"
      ]
     },
     "execution_count": 8,
     "metadata": {},
     "output_type": "execute_result"
    }
   ],
   "source": [
    "data.h1"
   ]
  },
  {
   "cell_type": "code",
   "execution_count": 9,
   "id": "9c952530-0779-4b06-ac55-c133d22875bf",
   "metadata": {},
   "outputs": [
    {
     "data": {
      "text/plain": [
       "<p id=\"first_para\">Let's start learning <b>Web Scraping</b></p>"
      ]
     },
     "execution_count": 9,
     "metadata": {},
     "output_type": "execute_result"
    }
   ],
   "source": [
    "data.p"
   ]
  },
  {
   "cell_type": "code",
   "execution_count": 11,
   "id": "967a4244-62e9-4ead-94ce-3ebf40306607",
   "metadata": {},
   "outputs": [],
   "source": [
    "data.h2"
   ]
  },
  {
   "cell_type": "code",
   "execution_count": 12,
   "id": "966982f4-029c-496a-bde9-04c03a37f07f",
   "metadata": {},
   "outputs": [
    {
     "name": "stdout",
     "output_type": "stream",
     "text": [
      "<title> Testing Web Page </title>\n",
      "title\n",
      " Testing Web Page \n"
     ]
    }
   ],
   "source": [
    "print(data.title)\n",
    "print(data.title.name)\n",
    "print(data.title.string)"
   ]
  },
  {
   "cell_type": "code",
   "execution_count": 13,
   "id": "84df83df-9ec4-4428-a49c-0ec1d8251b8e",
   "metadata": {},
   "outputs": [
    {
     "name": "stdout",
     "output_type": "stream",
     "text": [
      "{}\n"
     ]
    }
   ],
   "source": [
    "print(data.title.attrs)"
   ]
  },
  {
   "cell_type": "code",
   "execution_count": 14,
   "id": "da633f04-70ef-4196-ac7f-788ef8df8888",
   "metadata": {},
   "outputs": [
    {
     "data": {
      "text/plain": [
       "{'id': 'first_para'}"
      ]
     },
     "execution_count": 14,
     "metadata": {},
     "output_type": "execute_result"
    }
   ],
   "source": [
    "data.p.attrs"
   ]
  },
  {
   "cell_type": "code",
   "execution_count": 15,
   "id": "95d91473-c85b-4556-864e-de9eae09aaa5",
   "metadata": {},
   "outputs": [
    {
     "data": {
      "text/plain": [
       "'first_para'"
      ]
     },
     "execution_count": 15,
     "metadata": {},
     "output_type": "execute_result"
    }
   ],
   "source": [
    "data.p['id']"
   ]
  },
  {
   "cell_type": "code",
   "execution_count": 16,
   "id": "bca6afe1-1427-4359-8644-c47682e54104",
   "metadata": {},
   "outputs": [
    {
     "data": {
      "text/plain": [
       "'first_para'"
      ]
     },
     "execution_count": 16,
     "metadata": {},
     "output_type": "execute_result"
    }
   ],
   "source": [
    "data.p.get('id')"
   ]
  },
  {
   "cell_type": "code",
   "execution_count": 17,
   "id": "796e3a13-e0b0-48ea-93e9-05253784dbd2",
   "metadata": {},
   "outputs": [
    {
     "data": {
      "text/plain": [
       "\" Testing Web Page  Web Scraping Let's start learning Web ScrapingYou can read more about BeautifulSoup from  here  Coding Ninjas \""
      ]
     },
     "execution_count": 17,
     "metadata": {},
     "output_type": "execute_result"
    }
   ],
   "source": [
    "data.get_text()"
   ]
  },
  {
   "cell_type": "code",
   "execution_count": 18,
   "id": "11b8ffe8-a6b0-4d86-8646-54b3dbc0b299",
   "metadata": {},
   "outputs": [
    {
     "data": {
      "text/plain": [
       "<p id=\"first_para\">Let's start learning <b>Web Scraping</b></p>"
      ]
     },
     "execution_count": 18,
     "metadata": {},
     "output_type": "execute_result"
    }
   ],
   "source": [
    "data.p"
   ]
  },
  {
   "cell_type": "code",
   "execution_count": 19,
   "id": "62ce9efc-48ea-49bf-84ea-eae21775734c",
   "metadata": {},
   "outputs": [
    {
     "data": {
      "text/plain": [
       "<p id=\"first_para\">Let's start learning <b>Web Scraping</b></p>"
      ]
     },
     "execution_count": 19,
     "metadata": {},
     "output_type": "execute_result"
    }
   ],
   "source": [
    "data.find('p')"
   ]
  },
  {
   "cell_type": "code",
   "execution_count": 20,
   "id": "42e9ef57-1984-4e0c-9be1-f16c91a7c0c8",
   "metadata": {},
   "outputs": [
    {
     "data": {
      "text/plain": [
       "<h1> Web Scraping </h1>"
      ]
     },
     "execution_count": 20,
     "metadata": {},
     "output_type": "execute_result"
    }
   ],
   "source": [
    "data.find('h1')"
   ]
  },
  {
   "cell_type": "code",
   "execution_count": 21,
   "id": "a38e9750-5139-479e-92db-8c3b4e7183fc",
   "metadata": {},
   "outputs": [
    {
     "name": "stdout",
     "output_type": "stream",
     "text": [
      "<p id=\"first_para\">Let's start learning <b>Web Scraping</b></p>\n",
      "<p class=\"abc\" id=\"second_para\">You can read more about BeautifulSoup from <a href=\"https://www.crummy.com/software/BeautifulSoup/bs4/doc/\"> here </a></p>\n",
      "<p class=\"abc\"><a href=\"https://codingninjas.in/\"> Coding Ninjas </a></p>\n"
     ]
    }
   ],
   "source": [
    "li = data.find_all('p')\n",
    "\n",
    "for i in li : \n",
    "    print(i)"
   ]
  },
  {
   "cell_type": "code",
   "execution_count": 9,
   "id": "b2d2e837-867f-4867-bef0-cb12cbd438d4",
   "metadata": {},
   "outputs": [
    {
     "data": {
      "text/plain": [
       "[<p id=\"first_para\">Let's start learning <b>Web Scraping</b></p>,\n",
       " <p class=\"abc\" id=\"second_para\">You can read more about BeautifulSoup from <a href=\"https://www.crummy.com/software/BeautifulSoup/bs4/doc/\"> here </a></p>,\n",
       " <a href=\"https://www.crummy.com/software/BeautifulSoup/bs4/doc/\"> here </a>,\n",
       " <p class=\"abc\"><a href=\"https://codingninjas.in/\"> Coding Ninjas </a></p>,\n",
       " <a href=\"https://codingninjas.in/\"> Coding Ninjas </a>]"
      ]
     },
     "execution_count": 9,
     "metadata": {},
     "output_type": "execute_result"
    }
   ],
   "source": [
    "data.find_all(['p', 'a'])"
   ]
  },
  {
   "cell_type": "code",
   "execution_count": 10,
   "id": "e2b120ed-f895-41e0-b21d-510297418686",
   "metadata": {},
   "outputs": [
    {
     "data": {
      "text/plain": [
       "[<html><head><title> Testing Web Page </title></head><body><h1> Web Scraping </h1><p id=\"first_para\">Let's start learning <b>Web Scraping</b></p><p class=\"abc\" id=\"second_para\">You can read more about BeautifulSoup from <a href=\"https://www.crummy.com/software/BeautifulSoup/bs4/doc/\"> here </a></p><p class=\"abc\"><a href=\"https://codingninjas.in/\"> Coding Ninjas </a></p></body></html>,\n",
       " <head><title> Testing Web Page </title></head>,\n",
       " <title> Testing Web Page </title>,\n",
       " <body><h1> Web Scraping </h1><p id=\"first_para\">Let's start learning <b>Web Scraping</b></p><p class=\"abc\" id=\"second_para\">You can read more about BeautifulSoup from <a href=\"https://www.crummy.com/software/BeautifulSoup/bs4/doc/\"> here </a></p><p class=\"abc\"><a href=\"https://codingninjas.in/\"> Coding Ninjas </a></p></body>,\n",
       " <h1> Web Scraping </h1>,\n",
       " <p id=\"first_para\">Let's start learning <b>Web Scraping</b></p>,\n",
       " <b>Web Scraping</b>,\n",
       " <p class=\"abc\" id=\"second_para\">You can read more about BeautifulSoup from <a href=\"https://www.crummy.com/software/BeautifulSoup/bs4/doc/\"> here </a></p>,\n",
       " <a href=\"https://www.crummy.com/software/BeautifulSoup/bs4/doc/\"> here </a>,\n",
       " <p class=\"abc\"><a href=\"https://codingninjas.in/\"> Coding Ninjas </a></p>,\n",
       " <a href=\"https://codingninjas.in/\"> Coding Ninjas </a>]"
      ]
     },
     "execution_count": 10,
     "metadata": {},
     "output_type": "execute_result"
    }
   ],
   "source": [
    "data.find_all(True)"
   ]
  },
  {
   "cell_type": "code",
   "execution_count": 11,
   "id": "63b5a4bc-5cf0-4ba0-905b-32e5ce3cd670",
   "metadata": {},
   "outputs": [
    {
     "data": {
      "text/plain": [
       "[<p id=\"first_para\">Let's start learning <b>Web Scraping</b></p>]"
      ]
     },
     "execution_count": 11,
     "metadata": {},
     "output_type": "execute_result"
    }
   ],
   "source": [
    "data.find_all(id = 'first_para')"
   ]
  },
  {
   "cell_type": "code",
   "execution_count": 12,
   "id": "e95270cb-9ba7-4dac-afa8-d5ff7376d284",
   "metadata": {},
   "outputs": [
    {
     "data": {
      "text/plain": [
       "[<p class=\"abc\" id=\"second_para\">You can read more about BeautifulSoup from <a href=\"https://www.crummy.com/software/BeautifulSoup/bs4/doc/\"> here </a></p>,\n",
       " <p class=\"abc\"><a href=\"https://codingninjas.in/\"> Coding Ninjas </a></p>]"
      ]
     },
     "execution_count": 12,
     "metadata": {},
     "output_type": "execute_result"
    }
   ],
   "source": [
    "data.find_all(class_='abc')"
   ]
  },
  {
   "cell_type": "code",
   "execution_count": 13,
   "id": "0365e121-bf89-4c03-9296-39e010d5636d",
   "metadata": {},
   "outputs": [
    {
     "name": "stdout",
     "output_type": "stream",
     "text": [
      "<!DOCTYPE html>\n",
      "<html>\n",
      " <head>\n",
      "  <title>\n",
      "   Testing Web Page\n",
      "  </title>\n",
      " </head>\n",
      " <body>\n",
      "  <h1>\n",
      "   Web Scraping\n",
      "  </h1>\n",
      "  <p id=\"first_para\">\n",
      "   Let's start learning\n",
      "   <b>\n",
      "    Web Scraping\n",
      "   </b>\n",
      "  </p>\n",
      "  <p class=\"abc\" id=\"second_para\">\n",
      "   You can read more about BeautifulSoup from\n",
      "   <a href=\"https://www.crummy.com/software/BeautifulSoup/bs4/doc/\">\n",
      "    here\n",
      "   </a>\n",
      "  </p>\n",
      "  <p class=\"abc\">\n",
      "   <a href=\"https://codingninjas.in/\">\n",
      "    Coding Ninjas\n",
      "   </a>\n",
      "  </p>\n",
      " </body>\n",
      "</html>\n",
      "\n"
     ]
    }
   ],
   "source": [
    "print(data.prettify())"
   ]
  },
  {
   "cell_type": "code",
   "execution_count": 14,
   "id": "32fefd99-fba7-4582-b3f5-c8387049fd11",
   "metadata": {},
   "outputs": [
    {
     "data": {
      "text/plain": [
       "<head><title> Testing Web Page </title></head>"
      ]
     },
     "execution_count": 14,
     "metadata": {},
     "output_type": "execute_result"
    }
   ],
   "source": [
    "data.head"
   ]
  },
  {
   "cell_type": "code",
   "execution_count": 15,
   "id": "e6a17fa2-1a62-4016-bf91-a932ed83726b",
   "metadata": {},
   "outputs": [
    {
     "data": {
      "text/plain": [
       "<title> Testing Web Page </title>"
      ]
     },
     "execution_count": 15,
     "metadata": {},
     "output_type": "execute_result"
    }
   ],
   "source": [
    "data.head.title"
   ]
  },
  {
   "cell_type": "code",
   "execution_count": 16,
   "id": "73213cb1-fd91-46d9-b754-52e3abd0de9a",
   "metadata": {},
   "outputs": [
    {
     "data": {
      "text/plain": [
       "<title> Testing Web Page </title>"
      ]
     },
     "execution_count": 16,
     "metadata": {},
     "output_type": "execute_result"
    }
   ],
   "source": [
    "data.title"
   ]
  },
  {
   "cell_type": "code",
   "execution_count": 17,
   "id": "8866584b-cd9c-49f4-b1c4-d99865eed740",
   "metadata": {},
   "outputs": [
    {
     "data": {
      "text/plain": [
       "' Testing Web Page '"
      ]
     },
     "execution_count": 17,
     "metadata": {},
     "output_type": "execute_result"
    }
   ],
   "source": [
    "data.title.string"
   ]
  },
  {
   "cell_type": "code",
   "execution_count": 18,
   "id": "1765f361-2d7c-4ccd-8b0d-a6619291cb67",
   "metadata": {},
   "outputs": [
    {
     "name": "stdout",
     "output_type": "stream",
     "text": [
      "<p id=\"first_para\">Let's start learning <b>Web Scraping</b></p>\n",
      "<p class=\"abc\" id=\"second_para\">You can read more about BeautifulSoup from <a href=\"https://www.crummy.com/software/BeautifulSoup/bs4/doc/\"> here </a></p>\n",
      "<p class=\"abc\"><a href=\"https://codingninjas.in/\"> Coding Ninjas </a></p>\n"
     ]
    }
   ],
   "source": [
    "li = data.find_all('p')\n",
    "\n",
    "for i in li : \n",
    "    print(i)"
   ]
  },
  {
   "cell_type": "code",
   "execution_count": 19,
   "id": "4728fe91-219f-46ee-a495-2129781a09ef",
   "metadata": {},
   "outputs": [
    {
     "name": "stdout",
     "output_type": "stream",
     "text": [
      "None\n",
      "None\n",
      " Coding Ninjas \n"
     ]
    }
   ],
   "source": [
    "for i in li : \n",
    "    print(i.string)"
   ]
  },
  {
   "cell_type": "code",
   "execution_count": 20,
   "id": "52b516c4-f3fd-4241-86f7-bbdc876acef3",
   "metadata": {},
   "outputs": [
    {
     "name": "stdout",
     "output_type": "stream",
     "text": [
      "[\"Let's start learning \", 'Web Scraping']\n",
      "['You can read more about BeautifulSoup from ', ' here ']\n",
      "[' Coding Ninjas ']\n"
     ]
    }
   ],
   "source": [
    "for i in li : \n",
    "    print(list(i.strings))"
   ]
  },
  {
   "cell_type": "code",
   "execution_count": 21,
   "id": "36b80188-a2e2-4ce9-91a9-d518687e1739",
   "metadata": {},
   "outputs": [
    {
     "name": "stdout",
     "output_type": "stream",
     "text": [
      "[\"Let's start learning\", 'Web Scraping']\n",
      "['You can read more about BeautifulSoup from', 'here']\n",
      "['Coding Ninjas']\n"
     ]
    }
   ],
   "source": [
    "for i in li : \n",
    "    print(list(i.stripped_strings))"
   ]
  },
  {
   "cell_type": "code",
   "execution_count": 22,
   "id": "63dd3980-87d9-4711-8734-4acb2170b10f",
   "metadata": {},
   "outputs": [
    {
     "name": "stdout",
     "output_type": "stream",
     "text": [
      "2\n",
      "[<head><title> Testing Web Page </title></head>, <body><h1> Web Scraping </h1><p id=\"first_para\">Let's start learning <b>Web Scraping</b></p><p class=\"abc\" id=\"second_para\">You can read more about BeautifulSoup from <a href=\"https://www.crummy.com/software/BeautifulSoup/bs4/doc/\"> here </a></p><p class=\"abc\"><a href=\"https://codingninjas.in/\"> Coding Ninjas </a></p></body>]\n"
     ]
    }
   ],
   "source": [
    "li = data.html.contents\n",
    "print(len(li))\n",
    "print(li)"
   ]
  },
  {
   "cell_type": "code",
   "execution_count": 23,
   "id": "78c04655-3ff2-4661-95b8-41ade2669a75",
   "metadata": {},
   "outputs": [
    {
     "name": "stdout",
     "output_type": "stream",
     "text": [
      "<head><title> Testing Web Page </title></head>\n",
      "<body><h1> Web Scraping </h1><p id=\"first_para\">Let's start learning <b>Web Scraping</b></p><p class=\"abc\" id=\"second_para\">You can read more about BeautifulSoup from <a href=\"https://www.crummy.com/software/BeautifulSoup/bs4/doc/\"> here </a></p><p class=\"abc\"><a href=\"https://codingninjas.in/\"> Coding Ninjas </a></p></body>\n"
     ]
    }
   ],
   "source": [
    "li_22 = data.html.children\n",
    "for i in li_22 : \n",
    "    print(i)"
   ]
  },
  {
   "cell_type": "code",
   "execution_count": 24,
   "id": "ea6f2222-1cf7-4a70-9a8a-3a5d2f757de4",
   "metadata": {},
   "outputs": [
    {
     "name": "stdout",
     "output_type": "stream",
     "text": [
      "17\n"
     ]
    }
   ],
   "source": [
    "desc = list(data.html.descendants)\n",
    "\n",
    "print(len(desc))"
   ]
  },
  {
   "cell_type": "code",
   "execution_count": 25,
   "id": "9a474f42-d419-4980-9d63-9cd0360bdc8a",
   "metadata": {},
   "outputs": [
    {
     "data": {
      "text/plain": [
       "[<head><title> Testing Web Page </title></head>,\n",
       " <title> Testing Web Page </title>,\n",
       " ' Testing Web Page ',\n",
       " <body><h1> Web Scraping </h1><p id=\"first_para\">Let's start learning <b>Web Scraping</b></p><p class=\"abc\" id=\"second_para\">You can read more about BeautifulSoup from <a href=\"https://www.crummy.com/software/BeautifulSoup/bs4/doc/\"> here </a></p><p class=\"abc\"><a href=\"https://codingninjas.in/\"> Coding Ninjas </a></p></body>,\n",
       " <h1> Web Scraping </h1>,\n",
       " ' Web Scraping ',\n",
       " <p id=\"first_para\">Let's start learning <b>Web Scraping</b></p>,\n",
       " \"Let's start learning \",\n",
       " <b>Web Scraping</b>,\n",
       " 'Web Scraping',\n",
       " <p class=\"abc\" id=\"second_para\">You can read more about BeautifulSoup from <a href=\"https://www.crummy.com/software/BeautifulSoup/bs4/doc/\"> here </a></p>,\n",
       " 'You can read more about BeautifulSoup from ',\n",
       " <a href=\"https://www.crummy.com/software/BeautifulSoup/bs4/doc/\"> here </a>,\n",
       " ' here ',\n",
       " <p class=\"abc\"><a href=\"https://codingninjas.in/\"> Coding Ninjas </a></p>,\n",
       " <a href=\"https://codingninjas.in/\"> Coding Ninjas </a>,\n",
       " ' Coding Ninjas ']"
      ]
     },
     "execution_count": 25,
     "metadata": {},
     "output_type": "execute_result"
    }
   ],
   "source": [
    "desc\n"
   ]
  },
  {
   "cell_type": "code",
   "execution_count": null,
   "id": "cd8ba93f-7522-445f-88a8-95d85aa58043",
   "metadata": {},
   "outputs": [],
   "source": []
  }
 ],
 "metadata": {
  "kernelspec": {
   "display_name": "Python 3 (ipykernel)",
   "language": "python",
   "name": "python3"
  },
  "language_info": {
   "codemirror_mode": {
    "name": "ipython",
    "version": 3
   },
   "file_extension": ".py",
   "mimetype": "text/x-python",
   "name": "python",
   "nbconvert_exporter": "python",
   "pygments_lexer": "ipython3",
   "version": "3.11.7"
  }
 },
 "nbformat": 4,
 "nbformat_minor": 5
}
