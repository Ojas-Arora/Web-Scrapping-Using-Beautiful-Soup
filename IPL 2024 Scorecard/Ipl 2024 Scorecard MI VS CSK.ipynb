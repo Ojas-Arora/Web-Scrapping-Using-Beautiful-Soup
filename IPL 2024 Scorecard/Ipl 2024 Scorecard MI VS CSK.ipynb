{
 "cells": [
  {
   "cell_type": "code",
   "execution_count": 1,
   "id": "2c86df59-1261-4f82-acd0-aa7477cdcf07",
   "metadata": {},
   "outputs": [],
   "source": [
    "import requests\n",
    "from bs4 import BeautifulSoup\n",
    "import pandas as pd\n",
    "import os"
   ]
  },
  {
   "cell_type": "code",
   "execution_count": 5,
   "id": "d9a6fb79-118e-46d0-9ed2-7b80fbf87c49",
   "metadata": {},
   "outputs": [],
   "source": [
    "urlnew=[\"https://www.espncricinfo.com/series/indian-premier-league-2024-1410320/mumbai-indians-vs-chennai-super-kings-29th-match-1426267/full-scorecard\"]"
   ]
  },
  {
   "cell_type": "code",
   "execution_count": 6,
   "id": "0dfbc795-cead-4b33-9f05-ac4a2984f2df",
   "metadata": {},
   "outputs": [],
   "source": [
    "def toss(url):\n",
    "    webpage=requests.get(url)\n",
    "    web=webpage.content\n",
    "    soup=BeautifulSoup(web,\"html.parser\")\n",
    "    for m in soup.find_all(\"span\"):\n",
    "        n=m.text\n",
    "        if \"elected\" in n:\n",
    "            print(n)"
   ]
  },
  {
   "cell_type": "code",
   "execution_count": 7,
   "id": "151b6aaf-9311-441d-a7c7-545a3fe96a18",
   "metadata": {},
   "outputs": [
    {
     "name": "stdout",
     "output_type": "stream",
     "text": [
      "Mumbai Indians, elected to field first\n"
     ]
    }
   ],
   "source": [
    "toss=[toss(url) for url in urlnew]"
   ]
  },
  {
   "cell_type": "code",
   "execution_count": 8,
   "id": "e60a3509-6a32-4784-9916-5f501886b03c",
   "metadata": {},
   "outputs": [],
   "source": [
    "def matchwinner(url):\n",
    "    webpage=requests.get(url)\n",
    "    web=webpage.content\n",
    "    soup=BeautifulSoup(web,\"html.parser\")\n",
    "    for m in soup.find_all(\"p\", {\"class\" : \"ds-text-tight-m\"}):\n",
    "        for span in m.find_all(\"span\"):\n",
    "            print(span.text)"
   ]
  },
  {
   "cell_type": "code",
   "execution_count": 10,
   "id": "7ab349e8-e1a4-401d-8172-d504b1d61db2",
   "metadata": {},
   "outputs": [],
   "source": [
    "winner=[matchwinner(url) for url in urlnew]"
   ]
  },
  {
   "cell_type": "code",
   "execution_count": 11,
   "id": "36c76442-6ecb-4ca6-8ba9-cd1a58d0c4ee",
   "metadata": {},
   "outputs": [],
   "source": [
    "def scores(url):\n",
    "    webpage=requests.get(url)\n",
    "    web=webpage.content\n",
    "    soup=BeautifulSoup(web,\"html.parser\")\n",
    "    for m in soup.find_all(\"div\", {\"class\" : \"ds-text-compact-m\"}):\n",
    "        for s in m.find_all(\"strong\"):\n",
    "            print(s.text)"
   ]
  },
  {
   "cell_type": "code",
   "execution_count": 12,
   "id": "3bb4e336-a7e6-4d9b-b503-4a13e956644c",
   "metadata": {},
   "outputs": [
    {
     "name": "stdout",
     "output_type": "stream",
     "text": [
      "206/4\n",
      "186/6\n"
     ]
    }
   ],
   "source": [
    "score=[scores(url) for url in urlnew]"
   ]
  },
  {
   "cell_type": "code",
   "execution_count": 13,
   "id": "a8846d89-f7a7-4767-9c2b-d141cdb62aa6",
   "metadata": {},
   "outputs": [],
   "source": [
    "def teamnames(url):\n",
    "    webpage=requests.get(url)\n",
    "    web=webpage.content\n",
    "    soup=BeautifulSoup(web,\"html.parser\")\n",
    "    for m in soup.find_all(\"span\", {\"class\" : \"ds-text-tight-l\"}):\n",
    "        print(m.text)"
   ]
  },
  {
   "cell_type": "code",
   "execution_count": 14,
   "id": "09ce7298-b956-4321-9ca0-3e6a3270e210",
   "metadata": {},
   "outputs": [
    {
     "name": "stdout",
     "output_type": "stream",
     "text": [
      "Chennai Super Kings\n",
      "Mumbai Indians\n",
      "Unlocking the magic of Statsguru\n"
     ]
    }
   ],
   "source": [
    "teams=[teamnames(url) for url in urlnew]"
   ]
  },
  {
   "cell_type": "code",
   "execution_count": 15,
   "id": "f634983c-270e-4c03-a18a-234192edbb64",
   "metadata": {},
   "outputs": [],
   "source": [
    "import requests\n",
    "from bs4 import BeautifulSoup\n",
    "import pandas as pd\n",
    "\n",
    "# Define URL list for scraping\n",
    "urlnew = [\"https://www.espncricinfo.com/series/indian-premier-league-2024-1410320/mumbai-indians-vs-chennai-super-kings-29th-match-1426267/full-scorecard\"]\n"
   ]
  },
  {
   "cell_type": "code",
   "execution_count": 16,
   "id": "4ae29962-8f3b-4202-ab50-5d78bda18df8",
   "metadata": {},
   "outputs": [],
   "source": [
    "# Define function for fetching toss decision with error handling\n",
    "def get_toss(url):\n",
    "    try:\n",
    "        webpage = requests.get(url)\n",
    "        soup = BeautifulSoup(webpage.content, \"html.parser\")\n",
    "        for span in soup.find_all(\"span\"):\n",
    "            text = span.text\n",
    "            if \"elected\" in text:\n",
    "                return text\n",
    "        return \"Toss info not found\"\n",
    "    except requests.exceptions.RequestException as e:\n",
    "        return f\"Error fetching toss: {e}\""
   ]
  },
  {
   "cell_type": "code",
   "execution_count": 17,
   "id": "c76f51e4-29a2-4175-bac2-55bf38ce6997",
   "metadata": {},
   "outputs": [],
   "source": [
    "\n",
    "# Define function for fetching match winner with error handling\n",
    "def get_winner(url):\n",
    "    try:\n",
    "        webpage = requests.get(url)\n",
    "        soup = BeautifulSoup(webpage.content, \"html.parser\")\n",
    "        for p in soup.find_all(\"p\", {\"class\": \"ds-text-tight-m\"}):\n",
    "            for span in p.find_all(\"span\"):\n",
    "                return span.text\n",
    "        return \"Winner info not found\"\n",
    "    except requests.exceptions.RequestException as e:\n",
    "        return f\"Error fetching winner: {e}\""
   ]
  },
  {
   "cell_type": "code",
   "execution_count": 18,
   "id": "44f7bb40-8b7c-41dc-bca1-46fa121167ea",
   "metadata": {},
   "outputs": [],
   "source": [
    "# Define function for fetching team scores with error handling\n",
    "def get_scores(url):\n",
    "    try:\n",
    "        webpage = requests.get(url)\n",
    "        soup = BeautifulSoup(webpage.content, \"html.parser\")\n",
    "        scores = [s.text for m in soup.find_all(\"div\", {\"class\": \"ds-text-compact-m\"}) for s in m.find_all(\"strong\")]\n",
    "        return scores if scores else [\"Score info not found\"]\n",
    "    except requests.exceptions.RequestException as e:\n",
    "        return [f\"Error fetching scores: {e}\"]\n"
   ]
  },
  {
   "cell_type": "code",
   "execution_count": 19,
   "id": "9bf18c21-28d1-481b-8b8f-f16724339a9f",
   "metadata": {},
   "outputs": [],
   "source": [
    "\n",
    "# Define function for fetching team names with error handling\n",
    "def get_team_names(url):\n",
    "    try:\n",
    "        webpage = requests.get(url)\n",
    "        soup = BeautifulSoup(webpage.content, \"html.parser\")\n",
    "        team_names = [m.text for m in soup.find_all(\"span\", {\"class\": \"ds-text-tight-l\"})]\n",
    "        return team_names[:2] if team_names else [\"Team names not found\"]\n",
    "    except requests.exceptions.RequestException as e:\n",
    "        return [f\"Error fetching team names: {e}\"]"
   ]
  },
  {
   "cell_type": "code",
   "execution_count": 20,
   "id": "c9faa100-717f-442a-b419-0e2d8592bed3",
   "metadata": {},
   "outputs": [
    {
     "data": {
      "text/html": [
       "<div>\n",
       "<style scoped>\n",
       "    .dataframe tbody tr th:only-of-type {\n",
       "        vertical-align: middle;\n",
       "    }\n",
       "\n",
       "    .dataframe tbody tr th {\n",
       "        vertical-align: top;\n",
       "    }\n",
       "\n",
       "    .dataframe thead th {\n",
       "        text-align: right;\n",
       "    }\n",
       "</style>\n",
       "<table border=\"1\" class=\"dataframe\">\n",
       "  <thead>\n",
       "    <tr style=\"text-align: right;\">\n",
       "      <th></th>\n",
       "      <th>Team 1</th>\n",
       "      <th>Team 2</th>\n",
       "      <th>Toss Decision</th>\n",
       "      <th>Score 1</th>\n",
       "      <th>Score 2</th>\n",
       "      <th>Winner</th>\n",
       "    </tr>\n",
       "  </thead>\n",
       "  <tbody>\n",
       "    <tr>\n",
       "      <th>0</th>\n",
       "      <td>Chennai Super Kings</td>\n",
       "      <td>Mumbai Indians</td>\n",
       "      <td>Mumbai Indians, elected to field first</td>\n",
       "      <td>206/4</td>\n",
       "      <td>186/6</td>\n",
       "      <td>Winner info not found</td>\n",
       "    </tr>\n",
       "  </tbody>\n",
       "</table>\n",
       "</div>"
      ],
      "text/plain": [
       "                Team 1          Team 2  \\\n",
       "0  Chennai Super Kings  Mumbai Indians   \n",
       "\n",
       "                            Toss Decision Score 1 Score 2  \\\n",
       "0  Mumbai Indians, elected to field first   206/4   186/6   \n",
       "\n",
       "                  Winner  \n",
       "0  Winner info not found  "
      ]
     },
     "execution_count": 20,
     "metadata": {},
     "output_type": "execute_result"
    }
   ],
   "source": [
    "# Gather data into a structured DataFrame\n",
    "data = []\n",
    "for url in urlnew:\n",
    "    team_names = get_team_names(url)\n",
    "    toss = get_toss(url)\n",
    "    scores = get_scores(url)\n",
    "    winner = get_winner(url)\n",
    "    \n",
    "    # Add to data list as a dictionary for each match\n",
    "    data.append({\n",
    "        \"Team 1\": team_names[0] if len(team_names) > 0 else \"N/A\",\n",
    "        \"Team 2\": team_names[1] if len(team_names) > 1 else \"N/A\",\n",
    "        \"Toss Decision\": toss,\n",
    "        \"Score 1\": scores[0] if len(scores) > 0 else \"N/A\",\n",
    "        \"Score 2\": scores[1] if len(scores) > 1 else \"N/A\",\n",
    "        \"Winner\": winner\n",
    "    })\n",
    "\n",
    "# Create DataFrame for better display\n",
    "df = pd.DataFrame(data)\n",
    "df\n"
   ]
  },
  {
   "cell_type": "code",
   "execution_count": 21,
   "id": "707067b7-e12e-4cd2-a8cf-466c0f595eda",
   "metadata": {},
   "outputs": [],
   "source": [
    "# Function to fetch batting performance details\n",
    "def get_batting_performance(url):\n",
    "    try:\n",
    "        webpage = requests.get(url)\n",
    "        soup = BeautifulSoup(webpage.content, \"html.parser\")\n",
    "        batters = []\n",
    "        for table in soup.find_all(\"table\", {\"class\": \"ds-w-full ds-table ds-table-xs ds-table-fixed\"}):\n",
    "            for row in table.find_all(\"tr\", {\"class\": \"ds-text-tight-s\"}):\n",
    "                cols = row.find_all(\"td\")\n",
    "                if len(cols) > 4:  # Check if row has enough columns for batting stats\n",
    "                    player = cols[0].text.strip()\n",
    "                    runs = cols[2].text.strip()\n",
    "                    balls = cols[3].text.strip()\n",
    "                    fours = cols[5].text.strip()\n",
    "                    sixes = cols[6].text.strip()\n",
    "                    strike_rate = cols[7].text.strip()\n",
    "                    batters.append({\"Player\": player, \"Runs\": runs, \"Balls\": balls, \n",
    "                                    \"4s\": fours, \"6s\": sixes, \"SR\": strike_rate})\n",
    "        return batters\n",
    "    except requests.exceptions.RequestException as e:\n",
    "        return [f\"Error fetching batting performance: {e}\"]\n"
   ]
  },
  {
   "cell_type": "code",
   "execution_count": 22,
   "id": "8f33bf15-b749-4701-8937-9b4e335aa2c5",
   "metadata": {},
   "outputs": [],
   "source": [
    "# Function to fetch bowling performance details\n",
    "def get_bowling_performance(url):\n",
    "    try:\n",
    "        webpage = requests.get(url)\n",
    "        soup = BeautifulSoup(webpage.content, \"html.parser\")\n",
    "        bowlers = []\n",
    "        for table in soup.find_all(\"table\", {\"class\": \"ds-w-full ds-table ds-table-xs ds-table-fixed\"}):\n",
    "            for row in table.find_all(\"tr\", {\"class\": \"ds-text-tight-s\"}):\n",
    "                cols = row.find_all(\"td\")\n",
    "                if len(cols) > 4:  # Ensure row has sufficient columns for bowling stats\n",
    "                    player = cols[0].text.strip()\n",
    "                    overs = cols[2].text.strip()\n",
    "                    runs = cols[3].text.strip()\n",
    "                    wickets = cols[4].text.strip()\n",
    "                    economy = cols[5].text.strip()\n",
    "                    bowlers.append({\"Player\": player, \"Overs\": overs, \"Runs\": runs, \n",
    "                                    \"Wickets\": wickets, \"Economy\": economy})\n",
    "        return bowlers\n",
    "    except requests.exceptions.RequestException as e:\n",
    "        return [f\"Error fetching bowling performance: {e}\"]"
   ]
  },
  {
   "cell_type": "code",
   "execution_count": 23,
   "id": "cade5943-20c9-4ec0-9d53-76f265098fb2",
   "metadata": {},
   "outputs": [
    {
     "data": {
      "text/html": [
       "<div>\n",
       "<style scoped>\n",
       "    .dataframe tbody tr th:only-of-type {\n",
       "        vertical-align: middle;\n",
       "    }\n",
       "\n",
       "    .dataframe tbody tr th {\n",
       "        vertical-align: top;\n",
       "    }\n",
       "\n",
       "    .dataframe thead th {\n",
       "        text-align: right;\n",
       "    }\n",
       "</style>\n",
       "<table border=\"1\" class=\"dataframe\">\n",
       "  <thead>\n",
       "    <tr style=\"text-align: right;\">\n",
       "      <th></th>\n",
       "      <th>Team 1</th>\n",
       "      <th>Team 2</th>\n",
       "      <th>Toss Decision</th>\n",
       "      <th>Score 1</th>\n",
       "      <th>Score 2</th>\n",
       "      <th>Winner</th>\n",
       "      <th>Batting Performance</th>\n",
       "      <th>Bowling Performance</th>\n",
       "    </tr>\n",
       "  </thead>\n",
       "  <tbody>\n",
       "    <tr>\n",
       "      <th>0</th>\n",
       "      <td>Chennai Super Kings</td>\n",
       "      <td>Mumbai Indians</td>\n",
       "      <td>Mumbai Indians, elected to field first</td>\n",
       "      <td>206/4</td>\n",
       "      <td>186/6</td>\n",
       "      <td>Winner info not found</td>\n",
       "      <td>[]</td>\n",
       "      <td>[]</td>\n",
       "    </tr>\n",
       "  </tbody>\n",
       "</table>\n",
       "</div>"
      ],
      "text/plain": [
       "                Team 1          Team 2  \\\n",
       "0  Chennai Super Kings  Mumbai Indians   \n",
       "\n",
       "                            Toss Decision Score 1 Score 2  \\\n",
       "0  Mumbai Indians, elected to field first   206/4   186/6   \n",
       "\n",
       "                  Winner Batting Performance Bowling Performance  \n",
       "0  Winner info not found                  []                  []  "
      ]
     },
     "execution_count": 23,
     "metadata": {},
     "output_type": "execute_result"
    }
   ],
   "source": [
    "# Collect extended match data\n",
    "extended_data = []\n",
    "for url in urlnew:\n",
    "    team_names = get_team_names(url)\n",
    "    toss = get_toss(url)\n",
    "    scores = get_scores(url)\n",
    "    winner = get_winner(url)\n",
    "    batting = get_batting_performance(url)\n",
    "    bowling = get_bowling_performance(url)\n",
    "    \n",
    "    # Compile into match summary format\n",
    "    extended_data.append({\n",
    "        \"Team 1\": team_names[0] if len(team_names) > 0 else \"N/A\",\n",
    "        \"Team 2\": team_names[1] if len(team_names) > 1 else \"N/A\",\n",
    "        \"Toss Decision\": toss,\n",
    "        \"Score 1\": scores[0] if len(scores) > 0 else \"N/A\",\n",
    "        \"Score 2\": scores[1] if len(scores) > 1 else \"N/A\",\n",
    "        \"Winner\": winner,\n",
    "        \"Batting Performance\": batting,\n",
    "        \"Bowling Performance\": bowling\n",
    "    })\n",
    "\n",
    "# Display extended match details as a DataFrame\n",
    "extended_df = pd.DataFrame(extended_data)\n",
    "extended_df\n"
   ]
  },
  {
   "cell_type": "code",
   "execution_count": null,
   "id": "d9f376ff-837f-4d64-99e0-94392a59744c",
   "metadata": {},
   "outputs": [],
   "source": []
  }
 ],
 "metadata": {
  "kernelspec": {
   "display_name": "Python 3 (ipykernel)",
   "language": "python",
   "name": "python3"
  },
  "language_info": {
   "codemirror_mode": {
    "name": "ipython",
    "version": 3
   },
   "file_extension": ".py",
   "mimetype": "text/x-python",
   "name": "python",
   "nbconvert_exporter": "python",
   "pygments_lexer": "ipython3",
   "version": "3.11.7"
  }
 },
 "nbformat": 4,
 "nbformat_minor": 5
}
